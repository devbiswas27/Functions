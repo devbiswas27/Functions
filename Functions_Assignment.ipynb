{
  "nbformat": 4,
  "nbformat_minor": 0,
  "metadata": {
    "colab": {
      "provenance": []
    },
    "kernelspec": {
      "name": "python3",
      "display_name": "Python 3"
    },
    "language_info": {
      "name": "python"
    }
  },
  "cells": [
    {
      "cell_type": "markdown",
      "source": [],
      "metadata": {
        "id": "IdGYKGFmNhQA"
      }
    },
    {
      "cell_type": "code",
      "execution_count": null,
      "metadata": {
        "id": "OBi5Czlo-NgI"
      },
      "outputs": [],
      "source": [
        "#### Function Assignment\n"
      ]
    },
    {
      "cell_type": "code",
      "source": [
        "### Theory Questions"
      ],
      "metadata": {
        "id": "NX9bizfkj2RU"
      },
      "execution_count": null,
      "outputs": []
    },
    {
      "cell_type": "markdown",
      "source": [
        "Q.1. What is the difference between a function and a method in Python?\n",
        "\n",
        " In Python, both functions and methods are blocks of code that perform a specific task, but there's a key difference:\n",
        "\n",
        ">>Function\n",
        "\n",
        "Defined using def or lambda\n",
        "\n",
        "Can exist on its own, outside of any class\n",
        "\n",
        "Called by its name directly\n",
        "\n",
        "def greet():\n",
        "\n",
        "    return \"Hello\"\n",
        "\n",
        "print(greet())  # Output: Hello\n",
        "\n",
        "\n",
        "\n",
        ">>Method\n",
        "\n",
        "A function that belongs to an object (i.e., it's part of a class)\n",
        "\n",
        "Always takes at least one argument — usually self — if it's an instance method\n",
        "\n",
        "Called on an object, like object.method()\n",
        "\n",
        ">class Person:\n",
        "\n",
        "    def say_hello(self):\n",
        "\n",
        "        return \"Hello from a method\"\n",
        "\n",
        "p = Person()\n",
        "\n",
        "print(p.say_hello())  # Output: Hello from a method\n",
        "\n",
        "\n",
        "\n",
        "Q.2. Explain the concept of function arguments and parameters in Python\n",
        "\n",
        "The terms arguments and parameters are closely related in Python, but they refer to different parts of a function call.\n",
        "\n",
        ">>Parameters\n",
        "\n",
        "These are the placeholders used when defining a function.\n",
        "\n",
        "Think of them as variables inside the function that will receive values when the function is called.\n",
        "\n",
        "def greet(name):  # 'name' is a parameter\n",
        "\n",
        "    print(f\"Hello, {name}\")\n",
        "\n",
        ">>Arguments\n",
        "\n",
        "These are the actual values you pass when calling the function.\n",
        "\n",
        "They are assigned to the parameters.\n",
        "\n",
        "greet(\"Alice\")  # \"Alice\" is the argument\n",
        "\n",
        "\n",
        "Q.3.What are the different ways to define and call a function in Python?\n",
        "\n",
        "Python gives you several flexible ways to define and call functions. Here's a breakdown:\n",
        "\n",
        "\n",
        ">> Standard Function Definition\n",
        "\n",
        "> Definition:\n",
        "\n",
        "def greet(name):\n",
        "\n",
        "    print(f\"Hello, {name}\")\n",
        "\n",
        "> Call:\n",
        "\n",
        "greet(\"Alice\")#\n",
        "\n",
        "\n",
        ">>Function with Default Arguments\n",
        "\n",
        "> Definition:\n",
        "\n",
        "def greet(name=\"Guest\"):\n",
        "\n",
        "    print(f\"Hello, {name}\")\n",
        "\n",
        ">Call:\n",
        "\n",
        "greet()          # Hello, Guest\n",
        "\n",
        "greet(\"Alice\")   # Hello, Alice\n",
        "\n",
        ">> Function with Keyword Arguments\n",
        "\n",
        "> Definition:\n",
        "\n",
        "def describe_pet(name, animal=\"dog\"):\n",
        "\n",
        "    print(f\"{name} is a {animal}\")\n",
        "\n",
        "> Call:\n",
        "\n",
        "describe_pet(name=\"Whiskers\", animal=\"cat\")\n",
        "\n",
        ">> Function with Arbitrary Arguments\n",
        "\n",
        "Use *args for any number of positional arguments.\n",
        "\n",
        "Use **kwargs for any number of keyword arguments.\n",
        "\n",
        ">> Definition:\n",
        "\n",
        "def show_args(*args, **kwargs):\n",
        "\n",
        "    print(\"Args:\", args)\n",
        "\n",
        "    print(\"Kwargs:\", kwargs)\n",
        "\n",
        "> Call:\n",
        "\n",
        "show_args(1, 2, 3, name=\"Alice\", age=30)\n",
        "\n",
        ">> Lambda (Anonymous) Function\n",
        "\n",
        "> Definition & Call:\n",
        "\n",
        "add = lambda x, y: x + y\n",
        "\n",
        "print(add(3, 4))  # 7\n",
        "\n",
        "\n",
        ">> Calling Functions via functools.partial\n",
        "\n",
        "Pre-fixes some arguments of a function.\n",
        "\n",
        "\n",
        "from functools import partial\n",
        "\n",
        "def power(base, exponent):\n",
        "\n",
        "    return base ** exponent\n",
        "\n",
        "square = partial(power, exponent=2)\n",
        "\n",
        "print(square(5))  # 25\n",
        "\n",
        ">> Calling Functions Stored in Data Structures\n",
        "\n",
        "def say_hi(): print(\"Hi\")\n",
        "\n",
        "def say_bye(): print(\"Bye\")\n",
        "\n",
        "actions = [say_hi, say_bye]\n",
        "\n",
        "for action in actions:\n",
        "\n",
        "    action()\n",
        "\n",
        "\n",
        "Q.4.  What is the purpose of the `return` statement in a Python function?\n",
        "\n",
        "The return statement in Python is used to send a value back from a function to the place where it was called.\n",
        "\n",
        ">>Why use return?\n",
        "\n",
        "To output a result from a function\n",
        "\n",
        "To pass data back to the caller\n",
        "\n",
        "To end the function early\n",
        "\n",
        "> Example:\n",
        "\n",
        "def add(a, b):\n",
        "\n",
        "    return a + b\n",
        "\n",
        "result = add(3, 5)\n",
        "\n",
        "print(result)  # Output: 8\n",
        "\n",
        "Without return, the function would just do the work but not give back the result.\n",
        "\n",
        "> Key Notes:\n",
        "\n",
        "You can return any data type (numbers, strings, lists, objects, etc.)\n",
        "\n",
        "You can return multiple values as a tuple:\n",
        "\n",
        "\n",
        "def get_name_and_age():\n",
        "\n",
        "    return \"Alice\", 30\n",
        "\n",
        "name, age = get_name_and_age()\n",
        "\n",
        "If you don’t use return, Python returns None by default.\n",
        "\n",
        "\n"
      ],
      "metadata": {
        "id": "a2V88JO6NqQC"
      }
    },
    {
      "cell_type": "markdown",
      "source": [
        "Q.5.  What are iterators in Python and how do they differ from iterables?\n",
        "\n",
        " this is key to understanding loops and generators in Python.\n",
        "\n",
        ">>Iterables vs Iterators\n",
        "\n",
        "> Iterable\n",
        "\n",
        "An iterable is any object you can loop over (e.g., with a for loop).\n",
        "\n",
        "It implements the __iter__() method and returns an iterator.\n",
        "\n",
        "Examples of iterables:\n",
        "\n",
        "list, tuple, str, set, dict, range, etc.\n",
        "\n",
        "\n",
        "nums = [1, 2, 3]\n",
        "\n",
        "for n in nums:  # 'nums' is an iterable\n",
        "\n",
        "    print(n)\n",
        "\n",
        "> Iterator\n",
        "\n",
        "An iterator is an object with a state that remembers where it is in the sequence.\n",
        "\n",
        "It implements both:\n",
        "\n",
        "__iter__() – returns the iterator itself\n",
        "\n",
        "__next__() – returns the next item (or raises StopIteration)\n",
        "\n",
        "You get an iterator from an iterable:\n",
        "\n",
        "nums = [1, 2, 3]\n",
        "\n",
        "it = iter(nums)       # Now 'it' is an iterator\n",
        "\n",
        "print(next(it))  # 1\n",
        "\n",
        "print(next(it))  # 2\n",
        "\n",
        ">> Summary Table\n",
        "\n",
        "         Feature\t                Iterable\t                      Iterator\n",
        "\n",
        "       Can be looped\t                 Yes\t               Yes (with next())\n",
        "\n",
        "      Has __iter__()\t                 Yes\t                 Yes\n",
        "\n",
        "      Has __next__()\t                 No\t                    Yes\n",
        "\n",
        "      Example\tlist, str\titer(list), generators\n",
        "\n",
        "\n",
        "Q.6. Explain the concept of generators in Python and how they are defined.\n",
        "\n",
        " >>What is a Generator?\n",
        "\n",
        "A generator is a special type of iterator that lets you yield values one at a time, only when needed.\n",
        "\n",
        "This makes them memory-efficient, especially for large data sets or infinite sequences.\n",
        "\n",
        " >>How to Define a Generator\n",
        "\n",
        ">Using a Function + yield keyword\n",
        "\n",
        "    def count_up_to(n):\n",
        "    i = 1\n",
        "    while i <= n:\n",
        "        yield i\n",
        "        i += 1\n",
        "This doesn’t return all values at once — instead, it yields one value at a time.\n",
        "\n",
        "> Using a Generator Expression (like a lazy list comprehension)\n",
        "\n",
        "squares = (x*x for x in range(5))\n",
        "\n",
        ">> How to Use a Generator\n",
        "\n",
        "    gen = count_up_to(3)\n",
        "    print(next(gen))  # 1\n",
        "    print(next(gen))  # 2\n",
        "    print(next(gen))  # 3\n",
        "    # next(gen) now raises StopIteration\n",
        "\n",
        "Or with a for loop:\n",
        "\n",
        "    for num in count_up_to(3):\n",
        "    print(num)\n",
        "\n",
        ">> Why Use Generators?\n",
        "\n",
        "Efficiency: No need to store everything in memory\n",
        "\n",
        "Lazy evaluation: Values are produced on the fly\n",
        "\n",
        "Simple syntax: Easier than writing custom iterator classes\n",
        "\n",
        "\n"
      ],
      "metadata": {
        "id": "z-1VlgIqkDdA"
      }
    },
    {
      "cell_type": "markdown",
      "source": [
        "Q.7. What are the advantages of using generators over regular functions?\n",
        "\n",
        "\n",
        "Generators offer several powerful advantages over regular functions when you're dealing with large or complex data.\n",
        "\n",
        ">> Advantages of Generators\n",
        "\n",
        "> 1. Memory Efficiency\n",
        "\n",
        "Regular functions return the full result at once (e.g., a list), which takes up memory.\n",
        "\n",
        "Generators yield one item at a time, so they don’t store everything in memory.\n",
        "\n",
        "\n",
        "This can generate a million numbers without using a million slots in memory\n",
        "\n",
        "    def count_to_million():\n",
        "    for i in range(1_000_000):\n",
        "        yield i\n",
        "\n",
        "> 2. Lazy Evaluation\n",
        "\n",
        "Values are produced only when needed, making them perfect for big data or infinite streams.\n",
        "\n",
        "    gen = (x*x for x in range(10**10))  # This won't calculate anything until you use it\n",
        "\n",
        "  \n",
        "> 3. Faster Startup Time\n",
        "\n",
        "Since they don’t compute all values up front, generators can start producing output immediately.\n",
        "\n",
        "> 4. Cleaner Code for Iteration\n",
        "\n",
        "Generators simplify code you’d otherwise write with classes and __iter__, __next__.\n",
        "\n",
        "    def my_gen():\n",
        "    yield 1\n",
        "    yield 2\n",
        "    yield 3\n",
        "\n",
        "    for val in my_gen():\n",
        "    print(val)\n",
        "\n",
        "> 5. Chaining / Streaming Pipelines\n",
        "You can build data pipelines using generator expressions — very readable and efficient.\n",
        "\n",
        "\n",
        "    result = (x*x for x in range(100) if x % 2 == 0)\n",
        "> In Short:\n",
        "\n",
        "Feature\tRegular Function\tGenerator\n",
        "\n",
        "Returns\tAll at once\tOne at a time\n",
        "\n",
        "Memory usage\tHigh\tLow\n",
        "\n",
        "Use case\tSmall/medium data\tLarge/infinite"
      ],
      "metadata": {
        "id": "TRWFeMqwomce"
      }
    },
    {
      "cell_type": "markdown",
      "source": [
        "Q.8. What is a lambda function in Python and when is it typically used?\n",
        "\n",
        " Python’s way of letting you write tiny, anonymous functions on the fly!\n",
        "\n",
        ">>What Is a Lambda Function?\n",
        "\n",
        "A lambda function is a small, anonymous function defined with the lambda keyword, instead of def.\n",
        "\n",
        "> Basic Syntax:\n",
        "\n",
        "lambda arguments: expression\n",
        "\n",
        "It's like a one-liner function that returns the result of the expression.\n",
        "\n",
        "    square = lambda x: x * x\n",
        "    print(square(5))  # Output: 25\n",
        "\n",
        ">Equivalent to:\n",
        "\n",
        "    def square(x):\n",
        "    return x * x\n",
        "\n",
        "> When to Use Lambda Functions\n",
        "\n",
        ">> Typically used when:\n",
        "\n",
        "You need a quick, throwaway function\n",
        "\n",
        "You're passing a function as an argument to map(), filter(), sorted(), or reduce()\n",
        "\n",
        "You want cleaner, in-line function logic\n",
        "\n",
        "> Examples in Action:\n",
        "\n",
        " >With map()\n",
        "\n",
        "    nums = [1, 2, 3, 4]\n",
        "    squares = list(map(lambda x: x**2, nums))\n",
        "\n",
        "> With filter()\n",
        "\n",
        "    evens = list(filter(lambda x: x % 2 == 0, nums))\n",
        "\n",
        "> With sorted()\n",
        "    names = ['Alice', 'Bob', 'Charlie']\n",
        "    sorted_names = sorted(names, key=lambda name: len(name))\n",
        "\n",
        ">> Limitations\n",
        "\n",
        "Only one expression allowed (no multiple statements)\n",
        "\n",
        "Can’t have complex logic (like loops or if-else blocks with :)"
      ],
      "metadata": {
        "id": "7Q3poKjqplYk"
      }
    },
    {
      "cell_type": "markdown",
      "source": [
        "Q.9. Explain the purpose and usage of the `map()` function in Python.\n",
        "\n",
        "The map() function in Python is a powerful tool for applying a function to every item in an iterable (like a list), without writing a loop.\n",
        "\n",
        ">> What is map()?\n",
        "\n",
        "map() takes two arguments:\n",
        "\n",
        "\n",
        "map(function, iterable)\n",
        "\n",
        "It applies the function to each item in the iterable, and returns a map object, which is an iterator.\n",
        "\n",
        "> Example 1: Using map() with a regular function\n",
        "\n",
        "    def square(x):\n",
        "       return x * x\n",
        "\n",
        "     nums = [1, 2, 3, 4]\n",
        "    squares = map(square, nums)\n",
        "\n",
        "    print(list(squares))  # Output: [1, 4, 9, 16]\n",
        "\n",
        ">> Example 2: Using map() with a lambda\n",
        "\n",
        "    nums = [1, 2, 3, 4]\n",
        "    squares = map(lambda x: x**2, nums)\n",
        "\n",
        "    print(list(squares))  # Output: [1, 4, 9, 16]\n",
        "\n",
        ">> Example 3: Mapping over multiple iterables\n",
        "\n",
        "    a = [1, 2, 3]\n",
        "    b = [4, 5, 6]\n",
        "    sums = map(lambda x, y: x + y, a, b)\n",
        "\n",
        "    print(list(sums))  # Output: [5, 7, 9]\n",
        "\n",
        " >>When to Use map()\n",
        "\n",
        "When you want to transform data without using a for loop\n",
        "\n",
        "When you're applying the same operation to every item in a list or other iterable\n",
        "\n",
        ">> Notes:\n",
        "\n",
        "Returns a map object — you often need to wrap it in list() or tuple() to see the results.\n",
        "\n",
        "Can be faster and more readable than a loop in simple cases."
      ],
      "metadata": {
        "id": "pZzAkqbOq40z"
      }
    },
    {
      "cell_type": "markdown",
      "source": [
        "Q.10. What is the difference between `map()`, `reduce()`, and `filter()` functions in Python?\n",
        "\n",
        " map(), reduce(), and filter() are all functional programming tools in Python, and while they’re similar in style, they do very different things.\n",
        "\n",
        "Let’s break them down:\n",
        "\n",
        ">> map(): Transforms each item\n",
        "\n",
        "\n",
        "Applies a function to every item in an iterable.\n",
        "\n",
        "Returns a new iterable with the same number of items, but transformed.\n",
        "\n",
        "\n",
        "    nums = [1, 2, 3]\n",
        "    squared = map(lambda x: x ** 2, nums)\n",
        "    print(list(squared))  # [1, 4, 9]\n",
        "\n",
        ">> filter(): Filters items based on a condition\n",
        "\n",
        "Applies a function that returns True or False.\n",
        "\n",
        "Keeps only the items for which the function returns True.\n",
        "\n",
        "    nums = [1, 2, 3, 4]\n",
        "    evens = filter(lambda x: x % 2 == 0, nums)\n",
        "    print(list(evens))  # [2, 4]\n",
        "\n",
        "\n",
        ">>reduce(): Reduces all items into a single value\n",
        "\n",
        "Applies a function cumulatively to the iterable.\n",
        "\n",
        "Comes from functools, so you have to import it.\n",
        "\n",
        "\n",
        "from functools import reduce\n",
        "\n",
        "    nums = [1, 2, 3, 4]\n",
        "    product = reduce(lambda x, y: x * y, nums)\n",
        "    print(product)  # 24\n",
        ">> Summary Table\n",
        "\n",
        "    Function\t                 Purpose\t              Returns\t          Use Case\n",
        "    map()\t          Transform items               \tTransformed items\t     Squaring numbers,formatting text\n",
        "    filter()                  \tKeep some items\tFiltered items\t           Filtering evens,removing blanks\n",
        "    reduce()\tCombine into one value\t         Single value\t       Sums, products, accumulations\n",
        "    "
      ],
      "metadata": {
        "id": "8q7MgdausJw1"
      }
    },
    {
      "cell_type": "markdown",
      "source": [
        "Q.11. Using pen & Paper write the internal mechanism for sum operation using  reduce function on this given\n",
        "list:[47,11,42,13];\n",
        "\n",
        "\n",
        ">>We're using:\n",
        "\n",
        "from functools import reduce\n",
        "\n",
        "reduce(lambda x, y: x + y, [47, 11, 42, 13])\n",
        "\n",
        ">>Step-by-Step Breakdown:\n",
        "\n",
        "reduce() takes the first two elements and applies the function, then takes the result and the next item, and repeats.\n",
        "\n",
        "Initial list: [47, 11, 42, 13]\n",
        "\n",
        "First step\n",
        "\n",
        "x = 47, y = 11\n",
        "\n",
        "→ 47 + 11 = 58\n",
        "\n",
        "Second step\n",
        "\n",
        "x = 58, y = 42\n",
        "\n",
        "→ 58 + 42 = 100\n",
        "\n",
        "Third step\n",
        "\n",
        "x = 100, y = 13\n",
        "\n",
        "→ 100 + 13 = 113\n",
        "\n",
        ">> Final Result: 113\n",
        "\n",
        ">>Visual Summary:\n",
        "\n",
        "Step 1: 47 + 11 → 58\n",
        "\n",
        "Step 2: 58 + 42 → 100  \n",
        "\n",
        "Step 3: 100 + 13 → 113  \n",
        "\n",
        "That’s how reduce() \"reduces\" the list to a single final value."
      ],
      "metadata": {
        "id": "MkCOxbPmut1K"
      }
    },
    {
      "cell_type": "markdown",
      "source": [
        "### Practical Questions\n",
        "\n"
      ],
      "metadata": {
        "id": "P-WZIOR5vulD"
      }
    },
    {
      "cell_type": "code",
      "source": [
        "#Q.1. Write a Python function that takes a list of numbers as input and returns the sum of all even numbers in the list.\n",
        "\n",
        "def sum_of_evens(numbers):\n",
        "  return sum(num for num in numbers if num % 2 == 0)\n",
        "nums = [1, 2, 3, 4, 5, 6]\n",
        "result = sum_of_evens(nums)\n",
        "\n"
      ],
      "metadata": {
        "id": "kTcZho65w2k-"
      },
      "execution_count": 6,
      "outputs": []
    },
    {
      "cell_type": "code",
      "source": [
        "print(result)"
      ],
      "metadata": {
        "colab": {
          "base_uri": "https://localhost:8080/"
        },
        "id": "PzR7r09Gx-JL",
        "outputId": "3782629b-8371-45d8-f69f-6c551aaaab09"
      },
      "execution_count": 7,
      "outputs": [
        {
          "output_type": "stream",
          "name": "stdout",
          "text": [
            "12\n"
          ]
        }
      ]
    },
    {
      "cell_type": "code",
      "source": [
        "#Q.2.Create a Python function that accepts a string and returns the reverse of that string.\n",
        "\n",
        "def reverse_string(s):\n",
        "    return s[::-1]\n",
        "\n",
        "text = \"hello\"\n",
        "reversed_text = reverse_string(text)\n",
        "\n"
      ],
      "metadata": {
        "id": "4EGpEdIAyB9J"
      },
      "execution_count": 8,
      "outputs": []
    },
    {
      "cell_type": "code",
      "source": [
        "print(reversed_text)"
      ],
      "metadata": {
        "colab": {
          "base_uri": "https://localhost:8080/"
        },
        "id": "ZXCkpbiYzZLT",
        "outputId": "e1a30714-162b-4b6d-c541-d9274f5f566d"
      },
      "execution_count": 9,
      "outputs": [
        {
          "output_type": "stream",
          "name": "stdout",
          "text": [
            "olleh\n"
          ]
        }
      ]
    },
    {
      "cell_type": "code",
      "source": [
        "#Q.3. Implement a Python function that takes a list of integers and returns a new list containing the squares of each number.\n",
        "\n",
        "def square_numbers(numbers):\n",
        "    return [num ** 2 for num in numbers]\n",
        "nums = [1, 2, 3, 4, 5]\n",
        "squared_nums = square_numbers(nums)\n",
        " # Output: [1, 4, 9, 16, 25]\n"
      ],
      "metadata": {
        "id": "ChWRxhz6zeNH"
      },
      "execution_count": 11,
      "outputs": []
    },
    {
      "cell_type": "code",
      "source": [
        "print(squared_nums)"
      ],
      "metadata": {
        "colab": {
          "base_uri": "https://localhost:8080/"
        },
        "id": "O7o136zN0ISk",
        "outputId": "162be07b-b2d1-4373-8902-8175ee88d71f"
      },
      "execution_count": 12,
      "outputs": [
        {
          "output_type": "stream",
          "name": "stdout",
          "text": [
            "[1, 4, 9, 16, 25]\n"
          ]
        }
      ]
    },
    {
      "cell_type": "code",
      "source": [
        "#Q.4. Write a Python function that checks if a given number is prime or not from 1 to 200.\n",
        "\n",
        "def is_prime(num):\n",
        "    if num <= 1:\n",
        "        return False\n",
        "    for i in range(2, int(num**0.5) + 1):\n",
        "        if num % i == 0:\n",
        "            return False\n",
        "    return True\n",
        "def primes_up_to_200():\n",
        "    return [num for num in range(1, 201) if is_prime(num)]\n",
        "prime_numbers = primes_up_to_200()\n",
        "\n"
      ],
      "metadata": {
        "id": "6aHK61c20OJm"
      },
      "execution_count": 15,
      "outputs": []
    },
    {
      "cell_type": "code",
      "source": [
        "print(prime_numbers)"
      ],
      "metadata": {
        "colab": {
          "base_uri": "https://localhost:8080/"
        },
        "id": "rKu9shKu019P",
        "outputId": "8ccec2a4-0368-45c2-d404-a7d6085158de"
      },
      "execution_count": 16,
      "outputs": [
        {
          "output_type": "stream",
          "name": "stdout",
          "text": [
            "[2, 3, 5, 7, 11, 13, 17, 19, 23, 29, 31, 37, 41, 43, 47, 53, 59, 61, 67, 71, 73, 79, 83, 89, 97, 101, 103, 107, 109, 113, 127, 131, 137, 139, 149, 151, 157, 163, 167, 173, 179, 181, 191, 193, 197, 199]\n"
          ]
        }
      ]
    },
    {
      "cell_type": "code",
      "source": [
        "#Q.5. Create an iterator class in Python that generates the Fibonacci sequence up to a specified number of terms.\n",
        "class FibonacciIterator:\n",
        "    def __init__(self, terms):\n",
        "        self.terms = terms      # The number of terms to generate\n",
        "        self.current = 0        # Current index in the Fibonacci sequence\n",
        "        self.prev = 0           # Previous Fibonacci number (F(n-2))\n",
        "        self.curr = 1           # Current Fibonacci number (F(n-1))\n",
        "\n",
        "    def __iter__(self):\n",
        "        return self             # The iterator object itself\n",
        "\n",
        "    def __next__(self):\n",
        "        if self.current < self.terms:\n",
        "            # Return the current Fibonacci number\n",
        "            value = self.prev\n",
        "            self.prev, self.curr = self.curr, self.prev + self.curr  # Update to next Fibonacci numbers\n",
        "            self.current += 1\n",
        "            return value\n",
        "        else:\n",
        "            # Raise StopIteration once we reach the specified number of terms\n",
        "            raise StopIteration\n",
        "\n",
        "# Create an iterator for the first 10 Fibonacci numbers\n",
        "fib_iter = FibonacciIterator(10)\n",
        "\n",
        "# Iterate over the Fibonacci numbers\n",
        "for num in fib_iter:\n",
        "    print(num)\n"
      ],
      "metadata": {
        "colab": {
          "base_uri": "https://localhost:8080/"
        },
        "id": "vmtQ17Ay1mI1",
        "outputId": "c9015dc0-8ce9-4196-bce0-51925ab78663"
      },
      "execution_count": 20,
      "outputs": [
        {
          "output_type": "stream",
          "name": "stdout",
          "text": [
            "0\n",
            "1\n",
            "1\n",
            "2\n",
            "3\n",
            "5\n",
            "8\n",
            "13\n",
            "21\n",
            "34\n"
          ]
        }
      ]
    },
    {
      "cell_type": "code",
      "source": [
        "#Q.6. Write a generator function in Python that yields the powers of 2 up to a given exponent.\n",
        "def powers_of_2(exponent):\n",
        "    for i in range(exponent + 1):\n",
        "        yield 2 ** i\n",
        "\n",
        "# Generate powers of 2 up to exponent 5\n",
        "for power in powers_of_2(5):\n",
        "    print(power)\n",
        "\n"
      ],
      "metadata": {
        "colab": {
          "base_uri": "https://localhost:8080/"
        },
        "id": "QK9YsblS27HP",
        "outputId": "f40b83f3-1ff7-4d2d-a963-3fbd309ba5b7"
      },
      "execution_count": 21,
      "outputs": [
        {
          "output_type": "stream",
          "name": "stdout",
          "text": [
            "1\n",
            "2\n",
            "4\n",
            "8\n",
            "16\n",
            "32\n"
          ]
        }
      ]
    },
    {
      "cell_type": "code",
      "source": [
        "##Q.7 Implement a generator function that reads a file line by line and yields each line as a string.\n",
        "\n",
        "def read_file_line_by_line(filename):\n",
        "    with open(filename, 'r') as file:\n",
        "        for line in file:\n",
        "            yield line.strip()  # Strip newline characters\n"
      ],
      "metadata": {
        "id": "OSyhAzT133LP"
      },
      "execution_count": 36,
      "outputs": []
    },
    {
      "cell_type": "code",
      "source": [
        "#Q.8. Use a lambda function in Python to sort a list of tuples based on the second element of each tuple.\n",
        "# List of tuples\n",
        "tuples_list = [(1, 'apple'), (3, 'banana'), (2, 'cherry'), (4, 'date')]\n",
        "\n",
        "# Sort the list of tuples by the second element of each tuple (index 1)\n",
        "sorted_list = sorted(tuples_list, key=lambda x: x[1])\n",
        "\n",
        "print(sorted_list)\n"
      ],
      "metadata": {
        "colab": {
          "base_uri": "https://localhost:8080/"
        },
        "id": "zpWnw17G4l8B",
        "outputId": "a9fcdebc-1964-4d9f-b5e0-8c3015df0381"
      },
      "execution_count": 38,
      "outputs": [
        {
          "output_type": "stream",
          "name": "stdout",
          "text": [
            "[(1, 'apple'), (3, 'banana'), (2, 'cherry'), (4, 'date')]\n"
          ]
        }
      ]
    },
    {
      "cell_type": "code",
      "source": [
        "#Q.9.Write a Python program that uses `map()` to convert a list of temperatures from Celsius to Fahrenheit.\n",
        "\n",
        "# List of temperatures in Celsius\n",
        "celsius_temperatures = [0, 10, 20, 30, 40]\n",
        "\n",
        "# Function to convert Celsius to Fahrenheit\n",
        "def celsius_to_fahrenheit(celsius):\n",
        "    return (celsius * 9/5) + 32\n",
        "\n",
        "# Use map() to apply the conversion function to each element in the list\n",
        "fahrenheit_temperatures = map(celsius_to_fahrenheit, celsius_temperatures)\n",
        "\n",
        "# Convert the map object to a list and print the result\n",
        "fahrenheit_list = list(fahrenheit_temperatures)\n",
        "print(fahrenheit_list)\n"
      ],
      "metadata": {
        "colab": {
          "base_uri": "https://localhost:8080/"
        },
        "id": "tvRm1G9K6igO",
        "outputId": "6abfd197-c0b7-4585-c01d-8ab68b749768"
      },
      "execution_count": 40,
      "outputs": [
        {
          "output_type": "stream",
          "name": "stdout",
          "text": [
            "[32.0, 50.0, 68.0, 86.0, 104.0]\n"
          ]
        }
      ]
    },
    {
      "cell_type": "code",
      "source": [
        "#Q.10. Create a Python program that uses `filter()` to remove all the vowels from a given string\n",
        "\n",
        "# Function to check if a character is not a vowel\n",
        "def is_not_vowel(char):\n",
        "    vowels = 'aeiouAEIOU'  # Include both lowercase and uppercase vowels\n",
        "    return char not in vowels\n",
        "\n",
        "# Input string\n",
        "input_string = \"Hello World!\"\n",
        "\n",
        "# Use filter() to remove vowels\n",
        "filtered_string = ''.join(filter(is_not_vowel, input_string))\n",
        "\n",
        "print(filtered_string)\n"
      ],
      "metadata": {
        "colab": {
          "base_uri": "https://localhost:8080/"
        },
        "id": "3qL3LBiA7MPy",
        "outputId": "29582db1-bf5a-46c7-f6ef-b8d32a40b9d8"
      },
      "execution_count": 41,
      "outputs": [
        {
          "output_type": "stream",
          "name": "stdout",
          "text": [
            "Hll Wrld!\n"
          ]
        }
      ]
    },
    {
      "cell_type": "code",
      "source": [
        "#Q.11. Imagine an accounting routine used in a book shop. It works on a list with sublists, which look like this:\n",
        "\n",
        "#\"Write a Python program, which returns a list with 2-tuples. Each tuple consists of the order number and the product of the price per item and the quantity. The product should be increased by 10,- € if the value of the order is smaller than 100,00 €. Write a Python program using lambda and map\"\n",
        "\n",
        "\n",
        "# List of orders: [order_number, price_per_item, quantity]\n",
        "orders = [\n",
        "    [1, 20, 3],\n",
        "    [2, 50, 1],\n",
        "    [3, 10, 15],\n",
        "    [4, 30, 2]\n",
        "]\n",
        "\n",
        "# Use lambda and map to process the orders\n",
        "processed_orders = list(map(lambda order: (\n",
        "    order[0],  # Order number\n",
        "    order[1] * order[2] + (10 if order[1] * order[2] < 100 else 0)  # Apply extra 10€ if value < 100\n",
        "), orders))\n",
        "\n",
        "# Print the result\n",
        "print(processed_orders)\n"
      ],
      "metadata": {
        "colab": {
          "base_uri": "https://localhost:8080/"
        },
        "id": "d3T-HLRX7mxC",
        "outputId": "a1f8cd10-a6d6-4535-ffa5-2e2d04e368e9"
      },
      "execution_count": 42,
      "outputs": [
        {
          "output_type": "stream",
          "name": "stdout",
          "text": [
            "[(1, 70), (2, 60), (3, 150), (4, 70)]\n"
          ]
        }
      ]
    },
    {
      "cell_type": "code",
      "source": [],
      "metadata": {
        "id": "77gF0bpe8ljy"
      },
      "execution_count": null,
      "outputs": []
    }
  ]
}